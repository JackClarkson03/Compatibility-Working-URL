{
 "cells": [
  {
   "cell_type": "markdown",
   "id": "a37d010f-7f99-4f8e-a611-3d0008531a74",
   "metadata": {},
   "source": [
    "# Hyperparameter Sweep (Using W$\\&$B)\n",
    "\n",
    "W$\\&$B (Weights $\\&$ Biases) is an online software which uses Bayesian optimisation to find the best set of hyperparameters for a model. I have used a two-step approach when executing this hyperparameter sweep:\n",
    "- Firstly, a random search is carried out. This is good for finding the rough area of the loss landscape which produces the best model.\n",
    "- Secondly, a Bayesian sweep is carried out. Simply reinitialising the model after a random sweep is carried out allows the model to learn from the random sweep and hone in on the best region.\n",
    "\n",
    "** Paste the Hyperparameter sweep graphs into this ipynb **"
   ]
  },
  {
   "cell_type": "markdown",
   "id": "51ffe2cb-dfdd-4339-8df5-c9c5059ab696",
   "metadata": {},
   "source": [
    "(See Titanic/hyperparameter_preprocessing for an example)"
   ]
  },
  {
   "cell_type": "code",
   "execution_count": 11,
   "id": "2c8c7aaf-df70-40e5-8432-4c447685f35f",
   "metadata": {},
   "outputs": [],
   "source": [
    "# - Import Functions - #\n",
    "import wandb\n",
    "import pprint\n",
    "import pandas as pd\n",
    "import numpy as np\n",
    "import xgboost as xgb\n",
    "from sklearn.model_selection import train_test_split\n",
    "from sklearn.metrics import accuracy_score"
   ]
  },
  {
   "cell_type": "code",
   "execution_count": 6,
   "id": "bc5a9c1e-6b28-474b-aed1-12414e80a374",
   "metadata": {},
   "outputs": [],
   "source": [
    "# - Modified W&B applicable verison of run_training (from train.py) - #"
   ]
  },
  {
   "cell_type": "code",
   "execution_count": null,
   "id": "6f634ccf-85d2-40b4-8b7a-05a81f0cff26",
   "metadata": {},
   "outputs": [],
   "source": []
  }
 ],
 "metadata": {
  "kernelspec": {
   "display_name": "Python 3 (ipykernel)",
   "language": "python",
   "name": "python3"
  },
  "language_info": {
   "codemirror_mode": {
    "name": "ipython",
    "version": 3
   },
   "file_extension": ".py",
   "mimetype": "text/x-python",
   "name": "python",
   "nbconvert_exporter": "python",
   "pygments_lexer": "ipython3",
   "version": "3.12.12"
  }
 },
 "nbformat": 4,
 "nbformat_minor": 5
}
